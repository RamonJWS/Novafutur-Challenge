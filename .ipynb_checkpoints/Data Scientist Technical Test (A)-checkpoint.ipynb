{
 "cells": [
  {
   "cell_type": "markdown",
   "metadata": {},
   "source": [
    "# Data Scientist Technical Test (A):\n",
    "\n",
    "## Initial Thoughts:\n",
    "- I need to create a function that takes in 2 arguments (N,M).\n",
    "- N is the size of the N*N matrix.\n",
    "- M is a list of lists, where each list will be a pizzerias location and delivery range.\n",
    "\n",
    "To find the best location for Mr. Little Z to live in I'll be creating a matrix of zeros. For every block a delivery can be made to I will count. After adding all the pizzerias and their delivery locations I can just search for the largest number."
   ]
  },
  {
   "cell_type": "code",
   "execution_count": 1,
   "metadata": {},
   "outputs": [],
   "source": [
    "import numpy as np"
   ]
  },
  {
   "cell_type": "code",
   "execution_count": 2,
   "metadata": {},
   "outputs": [],
   "source": [
    "def generate_grid(N):\n",
    "    \"\"\"\n",
    "    Creates a N-N Matrix of zeros\n",
    "    \n",
    "    Args: N - The size of the N by N Matrix \n",
    "    \n",
    "    Returns: An N by N matrix of zeros\n",
    "    \"\"\"\n",
    "    return np.zeros((N,N))\n",
    "\n",
    "def manhattan_distance(x1,y1,x2,y2):\n",
    "    \"\"\"\n",
    "    Calculates the manhattan distance between two 2d arrays\n",
    "    \n",
    "    Args: x1 - x position of grid cell\n",
    "          x2 - x position of the pizzeria\n",
    "          y1 - y position of gird cell\n",
    "          y2 - y position of the pizzeria\n",
    "          \n",
    "    Returns: The manhattan distance between the grid cell and the pizzeria\n",
    "    \"\"\"\n",
    "    return abs(x1 - x2) + abs(y1 - y2)\n",
    "\n",
    "def populate_grid(grid, M):\n",
    "    \"\"\"\n",
    "    For each pizzeria the function loops through the grid and adds 1 to any cell within its manhattan distance\n",
    "    \n",
    "    Args: grid - the N-N matrix created in generate_grid\n",
    "          M - a list of all the pizzerias and their respective locations and deliver distances\n",
    "    \n",
    "    Returns: A grid where each cell is the number of pizzerias that can deliver there.\n",
    "    \"\"\"\n",
    "    # loops through the list of pizzerias\n",
    "    for m in M:\n",
    "        # loops through each cell in the grid\n",
    "        for idx, row in enumerate(grid[:,]):\n",
    "            for jdx, j in enumerate(row):\n",
    "                # calculates the manhattan distance between the current cell and the current pizzeria\n",
    "                manhattan = manhattan_distance(idx+1, jdx+1, m[0], m[1])\n",
    "                # if the distance is <= to the manhattan distance the cell can be delivered to\n",
    "                if manhattan <= m[2]:\n",
    "                    grid[idx, jdx] += 1       \n",
    "    return grid\n",
    "\n",
    "def rotation(grid):\n",
    "    \"\"\"\n",
    "    rotates the grid by 90 degrees anticlockwise to have the axes match the question\n",
    "    \n",
    "    Args: the grid after populate_grid has been applied\n",
    "    \n",
    "    Returns: the grid in an orientation that matches the questions axes and origin   \n",
    "    \"\"\"\n",
    "    return np.rot90(grid)\n",
    "\n",
    "def main(N, M, print_grid=False):\n",
    "    \"\"\"\n",
    "    used to control the flow of processes\n",
    "    \n",
    "    Args: N - the size of the N-N matrix\n",
    "          M - a list of all the pizzerias with their respective location and delivery range ([X,Y,K])\n",
    "          pring_grid - a bool used to print the final matrix (after all the above operations)\n",
    "    \n",
    "    Returns: the value of the cell(s) that have the maximum pizzerias available for delivery. If pring_grid = True,\n",
    "             the function will print the final grid.\n",
    "    \"\"\"\n",
    "    grid = generate_grid(N)\n",
    "    grid = populate_grid(grid, M)\n",
    "    grid = rotation(grid)\n",
    "    if print_grid:\n",
    "        print(grid)\n",
    "    return grid.max()"
   ]
  },
  {
   "cell_type": "code",
   "execution_count": 3,
   "metadata": {},
   "outputs": [
    {
     "name": "stdout",
     "output_type": "stream",
     "text": [
      "[[0. 0. 1. 0. 0.]\n",
      " [0. 1. 1. 1. 0.]\n",
      " [2. 1. 1. 1. 1.]\n",
      " [1. 2. 1. 1. 0.]\n",
      " [1. 1. 2. 0. 0.]]\n"
     ]
    }
   ],
   "source": [
    "# Used to test some very basic functionalities of the code above:\n",
    "# all conditions have been checked manually.\n",
    "\n",
    "def test():\n",
    "    assert main(5, [[3,3,2],[1,1,2]], print_grid=True) >= 0\n",
    "    assert main(5, [[3,3,2],[1,1,2]]) == 2\n",
    "    assert main(10, [[7, 5, 4],[3, 5, 5],[4, 8, 4],[1, 7, 6]]) == 4\n",
    "    assert main(19, [[5, 14, 14],[10, 17, 2],[17, 15, 8]]) == 3\n",
    "    \n",
    "test()"
   ]
  }
 ],
 "metadata": {
  "kernelspec": {
   "display_name": "Python 3",
   "language": "python",
   "name": "python3"
  },
  "language_info": {
   "codemirror_mode": {
    "name": "ipython",
    "version": 3
   },
   "file_extension": ".py",
   "mimetype": "text/x-python",
   "name": "python",
   "nbconvert_exporter": "python",
   "pygments_lexer": "ipython3",
   "version": "3.8.5"
  }
 },
 "nbformat": 4,
 "nbformat_minor": 4
}
