{
 "cells": [
  {
   "cell_type": "markdown",
   "metadata": {},
   "source": [
    "# Data Scientist Technical Test (A):\n",
    "\n",
    "## Initial Thoughts:\n",
    "- I need to create a function that takes in 2 arguments (N,M).\n",
    "- N is the size of the N*N matrix.\n",
    "- M is a list of lists, where each list will be a pizzerias location and delivery range.\n",
    "\n",
    "To find the best location for Mr. Little Z to live in I'll be creating a matrix of zeros. For every block a delivery can be made to I will count. After adding all the pizzerias and their delivery locations I can just search for the largest number."
   ]
  },
  {
   "cell_type": "code",
   "execution_count": 1,
   "metadata": {},
   "outputs": [],
   "source": [
    "import numpy as np"
   ]
  },
  {
   "cell_type": "code",
   "execution_count": 2,
   "metadata": {},
   "outputs": [
    {
     "data": {
      "text/plain": [
       "array([[0., 0., 0., 0., 0.],\n",
       "       [0., 0., 0., 0., 0.],\n",
       "       [0., 0., 0., 0., 0.],\n",
       "       [0., 0., 0., 0., 0.],\n",
       "       [0., 0., 0., 0., 0.]])"
      ]
     },
     "execution_count": 2,
     "metadata": {},
     "output_type": "execute_result"
    }
   ],
   "source": [
    "#  generate a 3,3 grid:\n",
    "\n",
    "N = 5\n",
    "\n",
    "grid = np.zeros((N,N))\n",
    "grid"
   ]
  },
  {
   "cell_type": "code",
   "execution_count": 3,
   "metadata": {},
   "outputs": [],
   "source": [
    "# add pizzeria:\n",
    "\n",
    "M = [[3,3,2],[1,1,2]]"
   ]
  },
  {
   "cell_type": "code",
   "execution_count": 4,
   "metadata": {},
   "outputs": [],
   "source": [
    "# calculate manhattan distance for every element, if <= k then put 1."
   ]
  },
  {
   "cell_type": "code",
   "execution_count": 5,
   "metadata": {},
   "outputs": [
    {
     "data": {
      "text/plain": [
       "array([[1., 1., 2., 0., 0.],\n",
       "       [1., 2., 1., 1., 0.],\n",
       "       [2., 1., 1., 1., 1.],\n",
       "       [0., 1., 1., 1., 0.],\n",
       "       [0., 0., 1., 0., 0.]])"
      ]
     },
     "execution_count": 5,
     "metadata": {},
     "output_type": "execute_result"
    }
   ],
   "source": [
    "for m in M:\n",
    "    for idx, row in enumerate(grid[:,]):\n",
    "        for jdx, j in enumerate(row):\n",
    "            manhattan = abs(idx+1 - m[0]) + abs(jdx+1 - m[1])\n",
    "            if manhattan <= m[2]:\n",
    "                grid[idx, jdx] += 1\n",
    "            \n",
    "grid\n",
    "        "
   ]
  },
  {
   "cell_type": "code",
   "execution_count": 6,
   "metadata": {},
   "outputs": [
    {
     "data": {
      "text/plain": [
       "array([[0., 0., 1., 0., 0.],\n",
       "       [0., 1., 1., 1., 0.],\n",
       "       [2., 1., 1., 1., 1.],\n",
       "       [1., 2., 1., 1., 0.],\n",
       "       [1., 1., 2., 0., 0.]])"
      ]
     },
     "execution_count": 6,
     "metadata": {},
     "output_type": "execute_result"
    }
   ],
   "source": [
    "np.rot90(grid)"
   ]
  },
  {
   "cell_type": "code",
   "execution_count": 7,
   "metadata": {},
   "outputs": [],
   "source": [
    "# function to generate grid of N-N\n",
    "def generate_grid(N):\n",
    "    return np.zeros((N,N))\n",
    "\n",
    "# function to calculate manhattan distance\n",
    "def manhattan_distance(x1,y1,x2,y2):\n",
    "    return abs(x1 - x2) + abs(y1 - y2)\n",
    "\n",
    "# function to find the blocks each pizzeria can deliver too.\n",
    "def populate_grid(grid, M):\n",
    "    for m in M:\n",
    "        for idx, row in enumerate(grid[:,]):\n",
    "            for jdx, j in enumerate(row):\n",
    "                manhattan = manhattan_distance(idx+1, jdx+1, m[0], m[1])\n",
    "                if manhattan <= m[2]:\n",
    "                    grid[idx, jdx] += 1       \n",
    "    return grid\n",
    "\n",
    "def rotation(grid):\n",
    "    return np.rot90(grid)\n",
    "\n",
    "def main(N, M):\n",
    "    grid = generate_grid(N)\n",
    "    grid = populate_grid(grid, M)\n",
    "    grid = rotation(grid)\n",
    "    print(grid)\n",
    "    return grid.max()"
   ]
  },
  {
   "cell_type": "code",
   "execution_count": 8,
   "metadata": {},
   "outputs": [
    {
     "name": "stdout",
     "output_type": "stream",
     "text": [
      "[[0. 0. 1. 0. 0.]\n",
      " [0. 1. 1. 1. 0.]\n",
      " [2. 1. 1. 1. 1.]\n",
      " [1. 2. 1. 1. 0.]\n",
      " [1. 1. 2. 0. 0.]]\n"
     ]
    },
    {
     "data": {
      "text/plain": [
       "2.0"
      ]
     },
     "execution_count": 8,
     "metadata": {},
     "output_type": "execute_result"
    }
   ],
   "source": [
    "N = 5\n",
    "M = [[3,3,2],[1,1,2]]\n",
    "\n",
    "main(N, M)"
   ]
  }
 ],
 "metadata": {
  "kernelspec": {
   "display_name": "Python 3",
   "language": "python",
   "name": "python3"
  },
  "language_info": {
   "codemirror_mode": {
    "name": "ipython",
    "version": 3
   },
   "file_extension": ".py",
   "mimetype": "text/x-python",
   "name": "python",
   "nbconvert_exporter": "python",
   "pygments_lexer": "ipython3",
   "version": "3.8.5"
  }
 },
 "nbformat": 4,
 "nbformat_minor": 4
}
